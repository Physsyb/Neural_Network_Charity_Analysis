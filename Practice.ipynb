{
 "cells": [
  {
   "cell_type": "code",
   "execution_count": 2,
   "metadata": {},
   "outputs": [],
   "source": [
    "# Import our dependencies\n",
    "import pandas as pd\n",
    "import matplotlib as plt\n",
    "from sklearn.datasets import make_blobs\n",
    "import sklearn as skl\n"
   ]
  },
  {
   "cell_type": "code",
   "execution_count": 3,
   "metadata": {},
   "outputs": [
    {
     "name": "stdout",
     "output_type": "stream",
     "text": [
      "Collecting tensorflow\n",
      "  Downloading tensorflow-2.4.1-cp38-cp38-win_amd64.whl (370.7 MB)\n",
      "Requirement already satisfied, skipping upgrade: typing-extensions~=3.7.4 in c:\\users\\physsyb\\anaconda3\\lib\\site-packages (from tensorflow) (3.7.4.3)\n",
      "Collecting gast==0.3.3\n",
      "  Using cached gast-0.3.3-py2.py3-none-any.whl (9.7 kB)\n",
      "Collecting tensorboard~=2.4\n",
      "  Using cached tensorboard-2.5.0-py3-none-any.whl (6.0 MB)\n",
      "Requirement already satisfied, skipping upgrade: h5py~=2.10.0 in c:\\users\\physsyb\\anaconda3\\lib\\site-packages (from tensorflow) (2.10.0)\n",
      "Collecting opt-einsum~=3.3.0\n",
      "  Using cached opt_einsum-3.3.0-py3-none-any.whl (65 kB)\n",
      "Collecting grpcio~=1.32.0\n",
      "  Downloading grpcio-1.32.0-cp38-cp38-win_amd64.whl (2.6 MB)\n",
      "Requirement already satisfied, skipping upgrade: six~=1.15.0 in c:\\users\\physsyb\\anaconda3\\lib\\site-packages (from tensorflow) (1.15.0)\n",
      "Collecting protobuf>=3.9.2\n",
      "  Downloading protobuf-3.16.0-py2.py3-none-any.whl (173 kB)\n",
      "Collecting google-pasta~=0.2\n",
      "  Using cached google_pasta-0.2.0-py3-none-any.whl (57 kB)\n",
      "Collecting tensorflow-estimator<2.5.0,>=2.4.0\n",
      "  Using cached tensorflow_estimator-2.4.0-py2.py3-none-any.whl (462 kB)\n",
      "Requirement already satisfied, skipping upgrade: wheel~=0.35 in c:\\users\\physsyb\\anaconda3\\lib\\site-packages (from tensorflow) (0.35.1)\n",
      "Requirement already satisfied, skipping upgrade: numpy~=1.19.2 in c:\\users\\physsyb\\anaconda3\\lib\\site-packages (from tensorflow) (1.19.2)\n",
      "Collecting absl-py~=0.10\n",
      "  Using cached absl_py-0.12.0-py3-none-any.whl (129 kB)\n",
      "Collecting astunparse~=1.6.3\n",
      "  Using cached astunparse-1.6.3-py2.py3-none-any.whl (12 kB)\n",
      "Collecting keras-preprocessing~=1.1.2\n",
      "  Using cached Keras_Preprocessing-1.1.2-py2.py3-none-any.whl (42 kB)\n",
      "Collecting termcolor~=1.1.0\n",
      "  Using cached termcolor-1.1.0.tar.gz (3.9 kB)\n",
      "Collecting flatbuffers~=1.12.0\n",
      "  Using cached flatbuffers-1.12-py2.py3-none-any.whl (15 kB)\n",
      "Collecting wrapt~=1.12.1\n",
      "  Using cached wrapt-1.12.1.tar.gz (27 kB)\n",
      "Requirement already satisfied, skipping upgrade: markdown>=2.6.8 in c:\\users\\physsyb\\anaconda3\\lib\\site-packages (from tensorboard~=2.4->tensorflow) (3.3.4)\n",
      "Note: you may need to restart the kernel to use updated packages.\n",
      "Collecting google-auth-oauthlib<0.5,>=0.4.1\n",
      "  Using cached google_auth_oauthlib-0.4.4-py2.py3-none-any.whl (18 kB)\n",
      "Requirement already satisfied, skipping upgrade: requests<3,>=2.21.0 in c:\\users\\physsyb\\anaconda3\\lib\\site-packages (from tensorboard~=2.4->tensorflow) (2.24.0)\n",
      "Collecting google-auth<2,>=1.6.3\n",
      "  Using cached google_auth-1.30.0-py2.py3-none-any.whl (146 kB)\n",
      "Requirement already satisfied, skipping upgrade: setuptools>=41.0.0 in c:\\users\\physsyb\\anaconda3\\lib\\site-packages (from tensorboard~=2.4->tensorflow) (50.3.1.post20201107)\n",
      "Requirement already satisfied, skipping upgrade: werkzeug>=0.11.15 in c:\\users\\physsyb\\anaconda3\\lib\\site-packages (from tensorboard~=2.4->tensorflow) (1.0.1)\n",
      "Collecting tensorboard-data-server<0.7.0,>=0.6.0\n",
      "  Using cached tensorboard_data_server-0.6.1-py3-none-any.whl (2.4 kB)\n",
      "Collecting tensorboard-plugin-wit>=1.6.0\n",
      "  Using cached tensorboard_plugin_wit-1.8.0-py3-none-any.whl (781 kB)\n",
      "Collecting requests-oauthlib>=0.7.0\n",
      "  Using cached requests_oauthlib-1.3.0-py2.py3-none-any.whl (23 kB)\n",
      "Requirement already satisfied, skipping upgrade: urllib3!=1.25.0,!=1.25.1,<1.26,>=1.21.1 in c:\\users\\physsyb\\anaconda3\\lib\\site-packages (from requests<3,>=2.21.0->tensorboard~=2.4->tensorflow) (1.25.11)\n",
      "Requirement already satisfied, skipping upgrade: certifi>=2017.4.17 in c:\\users\\physsyb\\anaconda3\\lib\\site-packages (from requests<3,>=2.21.0->tensorboard~=2.4->tensorflow) (2020.6.20)\n",
      "Requirement already satisfied, skipping upgrade: chardet<4,>=3.0.2 in c:\\users\\physsyb\\anaconda3\\lib\\site-packages (from requests<3,>=2.21.0->tensorboard~=2.4->tensorflow) (3.0.4)\n",
      "Requirement already satisfied, skipping upgrade: idna<3,>=2.5 in c:\\users\\physsyb\\anaconda3\\lib\\site-packages (from requests<3,>=2.21.0->tensorboard~=2.4->tensorflow) (2.10)\n",
      "Collecting rsa<5,>=3.1.4; python_version >= \"3.6\"\n",
      "  Using cached rsa-4.7.2-py3-none-any.whl (34 kB)\n",
      "Collecting cachetools<5.0,>=2.0.0\n",
      "  Using cached cachetools-4.2.2-py3-none-any.whl (11 kB)\n",
      "Collecting pyasn1-modules>=0.2.1\n",
      "  Using cached pyasn1_modules-0.2.8-py2.py3-none-any.whl (155 kB)\n",
      "Collecting oauthlib>=3.0.0\n",
      "  Using cached oauthlib-3.1.0-py2.py3-none-any.whl (147 kB)\n",
      "Collecting pyasn1>=0.1.3\n",
      "  Using cached pyasn1-0.4.8-py2.py3-none-any.whl (77 kB)\n",
      "Building wheels for collected packages: termcolor, wrapt\n",
      "  Building wheel for termcolor (setup.py): started\n",
      "  Building wheel for termcolor (setup.py): finished with status 'done'\n",
      "  Created wheel for termcolor: filename=termcolor-1.1.0-py3-none-any.whl size=4835 sha256=f72d365d01c168ce4fdc370d232ec886de2f6cf47eb2ec0eaccdff30c2899be5\n",
      "  Stored in directory: c:\\users\\physsyb\\appdata\\local\\pip\\cache\\wheels\\a0\\16\\9c\\5473df82468f958445479c59e784896fa24f4a5fc024b0f501\n",
      "  Building wheel for wrapt (setup.py): started\n",
      "  Building wheel for wrapt (setup.py): finished with status 'done'\n",
      "  Created wheel for wrapt: filename=wrapt-1.12.1-py3-none-any.whl size=19558 sha256=2bb7abcdf053815db32276faaaf92e3e5b5d0fbbdeeddb337fcc2a22cd4fe041\n",
      "  Stored in directory: c:\\users\\physsyb\\appdata\\local\\pip\\cache\\wheels\\5f\\fd\\9e\\b6cf5890494cb8ef0b5eaff72e5d55a70fb56316007d6dfe73\n",
      "Successfully built termcolor wrapt\n",
      "Installing collected packages: gast, protobuf, absl-py, oauthlib, requests-oauthlib, pyasn1, rsa, cachetools, pyasn1-modules, google-auth, google-auth-oauthlib, tensorboard-data-server, grpcio, tensorboard-plugin-wit, tensorboard, opt-einsum, google-pasta, tensorflow-estimator, astunparse, keras-preprocessing, termcolor, flatbuffers, wrapt, tensorflow\n",
      "  Attempting uninstall: wrapt\n",
      "    Found existing installation: wrapt 1.11.2\n",
      "    Uninstalling wrapt-1.11.2:\n",
      "      Successfully uninstalled wrapt-1.11.2\n",
      "Successfully installed absl-py-0.12.0 astunparse-1.6.3 cachetools-4.2.2 flatbuffers-1.12 gast-0.3.3 google-auth-1.30.0 google-auth-oauthlib-0.4.4 google-pasta-0.2.0 grpcio-1.32.0 keras-preprocessing-1.1.2 oauthlib-3.1.0 opt-einsum-3.3.0 protobuf-3.16.0 pyasn1-0.4.8 pyasn1-modules-0.2.8 requests-oauthlib-1.3.0 rsa-4.7.2 tensorboard-2.5.0 tensorboard-data-server-0.6.1 tensorboard-plugin-wit-1.8.0 tensorflow-2.4.1 tensorflow-estimator-2.4.0 termcolor-1.1.0 wrapt-1.12.1\n"
     ]
    }
   ],
   "source": [
    "pip install --upgrade tensorflow"
   ]
  },
  {
   "cell_type": "code",
   "execution_count": 8,
   "metadata": {},
   "outputs": [],
   "source": [
    "import tensorflow as tf"
   ]
  },
  {
   "cell_type": "code",
   "execution_count": 4,
   "metadata": {},
   "outputs": [
    {
     "data": {
      "text/plain": [
       "<AxesSubplot:xlabel='Feature 1', ylabel='Feature 2'>"
      ]
     },
     "execution_count": 4,
     "metadata": {},
     "output_type": "execute_result"
    },
    {
     "data": {
      "image/png": "[encoded data removed]",
      "text/plain": [
       "<Figure size 432x288 with 2 Axes>"
      ]
     },
     "metadata": {
      "needs_background": "light"
     },
     "output_type": "display_data"
    }
   ],
   "source": [
    "# Generate dummy dataset\n",
    "X, y = make_blobs(n_samples=1000, centers=2, n_features=2, random_state=78)\n",
    "\n",
    "# Creating a DataFrame with the dummy data\n",
    "df = pd.DataFrame(X, columns=[\"Feature 1\", \"Feature 2\"])\n",
    "df[\"Target\"] = y\n",
    "\n",
    "# Plotting the dummy data\n",
    "df.plot.scatter(x=\"Feature 1\", y=\"Feature 2\", c=\"Target\", colormap=\"winter\")"
   ]
  },
  {
   "cell_type": "code",
   "execution_count": 5,
   "metadata": {},
   "outputs": [],
   "source": [
    "# Use sklearn to split dataset\n",
    "from sklearn.model_selection import train_test_split\n",
    "X_train, X_test, y_train, y_test = train_test_split(X, y, random_state=78)"
   ]
  },
  {
   "cell_type": "code",
   "execution_count": 6,
   "metadata": {},
   "outputs": [],
   "source": [
    "# Create scaler instance\n",
    "X_scaler = skl.preprocessing.StandardScaler()\n",
    "\n",
    "# Fit the scaler\n",
    "X_scaler.fit(X_train)\n",
    "\n",
    "# Scale the data\n",
    "X_train_scaled = X_scaler.transform(X_train)\n",
    "X_test_scaled = X_scaler.transform(X_test)"
   ]
  },
  {
   "cell_type": "code",
   "execution_count": 9,
   "metadata": {},
   "outputs": [],
   "source": [
    "# Create the Keras Sequential model\n",
    "nn_model = tf.keras.models.Sequential()"
   ]
  },
  {
   "cell_type": "code",
   "execution_count": 10,
   "metadata": {},
   "outputs": [],
   "source": [
    "# Add our first Dense layer, including the input layer\n",
    "nn_model.add(tf.keras.layers.Dense(units=1, activation=\"relu\", input_dim=2))"
   ]
  },
  {
   "cell_type": "code",
   "execution_count": 12,
   "metadata": {},
   "outputs": [],
   "source": [
    "# Add the output layer that uses a probability activation function\n",
    "nn_model.add(tf.keras.layers.Dense(units=1, activation=\"sigmoid\"))"
   ]
  },
  {
   "cell_type": "code",
   "execution_count": 13,
   "metadata": {},
   "outputs": [
    {
     "name": "stdout",
     "output_type": "stream",
     "text": [
      "Model: \"sequential\"\n",
      "_________________________________________________________________\n",
      "Layer (type)                 Output Shape              Param #   \n",
      "=================================================================\n",
      "dense (Dense)                (None, 1)                 3         \n",
      "_________________________________________________________________\n",
      "dense_1 (Dense)              (None, 1)                 2         \n",
      "=================================================================\n",
      "Total params: 5\n",
      "Trainable params: 5\n",
      "Non-trainable params: 0\n",
      "_________________________________________________________________\n"
     ]
    }
   ],
   "source": [
    "# Check the structure of the Sequential model\n",
    "nn_model.summary()"
   ]
  },
  {
   "cell_type": "code",
   "execution_count": 14,
   "metadata": {},
   "outputs": [],
   "source": [
    "# Compile the Sequential model together and customize metrics\n",
    "nn_model.compile(loss=\"binary_crossentropy\", optimizer=\"adam\", metrics=[\"accuracy\"])"
   ]
  },
  {
   "cell_type": "code",
   "execution_count": 15,
   "metadata": {},
   "outputs": [
    {
     "name": "stdout",
     "output_type": "stream",
     "text": [
      "Epoch 1/100\n",
      "24/24 [==============================] - 1s 966us/step - loss: 1.4556 - accuracy: 0.0078\n",
      "Epoch 2/100\n",
      "24/24 [==============================] - 0s 940us/step - loss: 1.4037 - accuracy: 0.0061\n",
      "Epoch 3/100\n",
      "24/24 [==============================] - 0s 950us/step - loss: 1.3103 - accuracy: 0.0075\n",
      "Epoch 4/100\n",
      "24/24 [==============================] - 0s 917us/step - loss: 1.2936 - accuracy: 0.0111\n",
      "Epoch 5/100\n",
      "24/24 [==============================] - 0s 1ms/step - loss: 1.2728 - accuracy: 0.0100\n",
      "Epoch 6/100\n",
      "24/24 [==============================] - 0s 967us/step - loss: 1.1875 - accuracy: 0.0121\n",
      "Epoch 7/100\n",
      "24/24 [==============================] - 0s 1ms/step - loss: 1.1622 - accuracy: 0.0127\n",
      "Epoch 8/100\n",
      "24/24 [==============================] - 0s 966us/step - loss: 1.1120 - accuracy: 0.0162\n",
      "Epoch 9/100\n",
      "24/24 [==============================] - 0s 1ms/step - loss: 1.0980 - accuracy: 0.0076\n",
      "Epoch 10/100\n",
      "24/24 [==============================] - 0s 1ms/step - loss: 1.0599 - accuracy: 0.0176\n",
      "Epoch 11/100\n",
      "24/24 [==============================] - 0s 1ms/step - loss: 1.0315 - accuracy: 0.0112\n",
      "Epoch 12/100\n",
      "24/24 [==============================] - 0s 958us/step - loss: 0.9990 - accuracy: 0.0280\n",
      "Epoch 13/100\n",
      "24/24 [==============================] - 0s 1ms/step - loss: 0.9805 - accuracy: 0.0265\n",
      "Epoch 14/100\n",
      "24/24 [==============================] - 0s 1ms/step - loss: 0.9582 - accuracy: 0.0258\n",
      "Epoch 15/100\n",
      "24/24 [==============================] - 0s 1ms/step - loss: 0.9198 - accuracy: 0.0492\n",
      "Epoch 16/100\n",
      "24/24 [==============================] - 0s 1ms/step - loss: 0.9062 - accuracy: 0.0634\n",
      "Epoch 17/100\n",
      "24/24 [==============================] - 0s 1ms/step - loss: 0.8927 - accuracy: 0.0683\n",
      "Epoch 18/100\n",
      "24/24 [==============================] - 0s 997us/step - loss: 0.8640 - accuracy: 0.0854\n",
      "Epoch 19/100\n",
      "24/24 [==============================] - 0s 1ms/step - loss: 0.8711 - accuracy: 0.0852\n",
      "Epoch 20/100\n",
      "24/24 [==============================] - 0s 1ms/step - loss: 0.8278 - accuracy: 0.1291\n",
      "Epoch 21/100\n",
      "24/24 [==============================] - 0s 948us/step - loss: 0.8292 - accuracy: 0.1260\n",
      "Epoch 22/100\n",
      "24/24 [==============================] - 0s 973us/step - loss: 0.8162 - accuracy: 0.1382\n",
      "Epoch 23/100\n",
      "24/24 [==============================] - 0s 1ms/step - loss: 0.8042 - accuracy: 0.1741\n",
      "Epoch 24/100\n",
      "24/24 [==============================] - 0s 1ms/step - loss: 0.7890 - accuracy: 0.2167\n",
      "Epoch 25/100\n",
      "24/24 [==============================] - 0s 1ms/step - loss: 0.7782 - accuracy: 0.2197\n",
      "Epoch 26/100\n",
      "24/24 [==============================] - 0s 1ms/step - loss: 0.7654 - accuracy: 0.2586\n",
      "Epoch 27/100\n",
      "24/24 [==============================] - 0s 950us/step - loss: 0.7563 - accuracy: 0.2821\n",
      "Epoch 28/100\n",
      "24/24 [==============================] - 0s 1ms/step - loss: 0.7449 - accuracy: 0.3231\n",
      "Epoch 29/100\n",
      "24/24 [==============================] - 0s 1ms/step - loss: 0.7445 - accuracy: 0.3153\n",
      "Epoch 30/100\n",
      "24/24 [==============================] - 0s 1ms/step - loss: 0.7364 - accuracy: 0.3380\n",
      "Epoch 31/100\n",
      "24/24 [==============================] - 0s 1ms/step - loss: 0.7295 - accuracy: 0.3724\n",
      "Epoch 32/100\n",
      "24/24 [==============================] - 0s 997us/step - loss: 0.7217 - accuracy: 0.3974\n",
      "Epoch 33/100\n",
      "24/24 [==============================] - 0s 1ms/step - loss: 0.7242 - accuracy: 0.3810\n",
      "Epoch 34/100\n",
      "24/24 [==============================] - 0s 1ms/step - loss: 0.7176 - accuracy: 0.4087\n",
      "Epoch 35/100\n",
      "24/24 [==============================] - 0s 1ms/step - loss: 0.7117 - accuracy: 0.4430\n",
      "Epoch 36/100\n",
      "24/24 [==============================] - 0s 1ms/step - loss: 0.7080 - accuracy: 0.4612\n",
      "Epoch 37/100\n",
      "24/24 [==============================] - 0s 1ms/step - loss: 0.7039 - accuracy: 0.4761\n",
      "Epoch 38/100\n",
      "24/24 [==============================] - 0s 1ms/step - loss: 0.7025 - accuracy: 0.4830\n",
      "Epoch 39/100\n",
      "24/24 [==============================] - 0s 1ms/step - loss: 0.6993 - accuracy: 0.5022\n",
      "Epoch 40/100\n",
      "24/24 [==============================] - 0s 1ms/step - loss: 0.7009 - accuracy: 0.4883\n",
      "Epoch 41/100\n",
      "24/24 [==============================] - 0s 1ms/step - loss: 0.6989 - accuracy: 0.4955\n",
      "Epoch 42/100\n",
      "24/24 [==============================] - 0s 1ms/step - loss: 0.6975 - accuracy: 0.5027\n",
      "Epoch 43/100\n",
      "24/24 [==============================] - 0s 1ms/step - loss: 0.6964 - accuracy: 0.5122\n",
      "Epoch 44/100\n",
      "24/24 [==============================] - 0s 1ms/step - loss: 0.6968 - accuracy: 0.4997\n",
      "Epoch 45/100\n",
      "24/24 [==============================] - 0s 1ms/step - loss: 0.6959 - accuracy: 0.5027\n",
      "Epoch 46/100\n",
      "24/24 [==============================] - 0s 1ms/step - loss: 0.6953 - accuracy: 0.5011\n",
      "Epoch 47/100\n",
      "24/24 [==============================] - 0s 1ms/step - loss: 0.6962 - accuracy: 0.4957\n",
      "Epoch 48/100\n",
      "24/24 [==============================] - 0s 944us/step - loss: 0.6969 - accuracy: 0.4859\n",
      "Epoch 49/100\n",
      "24/24 [==============================] - 0s 950us/step - loss: 0.6944 - accuracy: 0.5062\n",
      "Epoch 50/100\n",
      "24/24 [==============================] - 0s 946us/step - loss: 0.6945 - accuracy: 0.5044\n",
      "Epoch 51/100\n",
      "24/24 [==============================] - 0s 992us/step - loss: 0.6936 - accuracy: 0.5093\n",
      "Epoch 52/100\n",
      "24/24 [==============================] - 0s 1ms/step - loss: 0.6937 - accuracy: 0.5098\n",
      "Epoch 53/100\n",
      "24/24 [==============================] - 0s 963us/step - loss: 0.6934 - accuracy: 0.5115\n",
      "Epoch 54/100\n",
      "24/24 [==============================] - 0s 954us/step - loss: 0.6961 - accuracy: 0.4805\n",
      "Epoch 55/100\n",
      "24/24 [==============================] - 0s 997us/step - loss: 0.6934 - accuracy: 0.5093\n",
      "Epoch 56/100\n",
      "24/24 [==============================] - 0s 781us/step - loss: 0.6930 - accuracy: 0.5159\n",
      "Epoch 57/100\n",
      "24/24 [==============================] - 0s 911us/step - loss: 0.6947 - accuracy: 0.4934\n",
      "Epoch 58/100\n",
      "24/24 [==============================] - 0s 781us/step - loss: 0.6914 - accuracy: 0.5359\n",
      "Epoch 59/100\n",
      "24/24 [==============================] - 0s 911us/step - loss: 0.6918 - accuracy: 0.5296\n",
      "Epoch 60/100\n",
      "24/24 [==============================] - 0s 912us/step - loss: 0.6925 - accuracy: 0.5196\n",
      "Epoch 61/100\n",
      "24/24 [==============================] - 0s 911us/step - loss: 0.6924 - accuracy: 0.5198\n",
      "Epoch 62/100\n",
      "24/24 [==============================] - 0s 1ms/step - loss: 0.6937 - accuracy: 0.5026\n",
      "Epoch 63/100\n",
      "24/24 [==============================] - 0s 811us/step - loss: 0.6917 - accuracy: 0.5316\n",
      "Epoch 64/100\n",
      "24/24 [==============================] - 0s 881us/step - loss: 0.6933 - accuracy: 0.5089\n",
      "Epoch 65/100\n",
      "24/24 [==============================] - 0s 891us/step - loss: 0.6943 - accuracy: 0.4893\n",
      "Epoch 66/100\n",
      "24/24 [==============================] - 0s 904us/step - loss: 0.6933 - accuracy: 0.5075\n",
      "Epoch 67/100\n",
      "24/24 [==============================] - 0s 824us/step - loss: 0.6943 - accuracy: 0.4901\n",
      "Epoch 68/100\n",
      "24/24 [==============================] - 0s 908us/step - loss: 0.6929 - accuracy: 0.5124\n",
      "Epoch 69/100\n",
      "24/24 [==============================] - 0s 928us/step - loss: 0.6929 - accuracy: 0.5134\n",
      "Epoch 70/100\n",
      "24/24 [==============================] - 0s 880us/step - loss: 0.6937 - accuracy: 0.4983\n",
      "Epoch 71/100\n",
      "24/24 [==============================] - 0s 888us/step - loss: 0.6934 - accuracy: 0.5048\n",
      "Epoch 72/100\n",
      "24/24 [==============================] - 0s 1ms/step - loss: 0.6925 - accuracy: 0.5208\n",
      "Epoch 73/100\n",
      "24/24 [==============================] - 0s 991us/step - loss: 0.6934 - accuracy: 0.5039\n",
      "Epoch 74/100\n",
      "24/24 [==============================] - 0s 955us/step - loss: 0.6930 - accuracy: 0.5139\n",
      "Epoch 75/100\n",
      "24/24 [==============================] - 0s 890us/step - loss: 0.6925 - accuracy: 0.5215\n",
      "Epoch 76/100\n",
      "24/24 [==============================] - 0s 922us/step - loss: 0.6935 - accuracy: 0.4996\n",
      "Epoch 77/100\n",
      "24/24 [==============================] - 0s 863us/step - loss: 0.6930 - accuracy: 0.5086\n",
      "Epoch 78/100\n",
      "24/24 [==============================] - 0s 963us/step - loss: 0.6929 - accuracy: 0.5116\n",
      "Epoch 79/100\n",
      "24/24 [==============================] - 0s 849us/step - loss: 0.6929 - accuracy: 0.5142\n",
      "Epoch 80/100\n",
      "24/24 [==============================] - 0s 977us/step - loss: 0.6932 - accuracy: 0.5067\n",
      "Epoch 81/100\n",
      "24/24 [==============================] - 0s 816us/step - loss: 0.6933 - accuracy: 0.5032\n",
      "Epoch 82/100\n"
     ]
    },
    {
     "name": "stdout",
     "output_type": "stream",
     "text": [
      "24/24 [==============================] - 0s 768us/step - loss: 0.6929 - accuracy: 0.5126\n",
      "Epoch 83/100\n",
      "24/24 [==============================] - 0s 791us/step - loss: 0.6926 - accuracy: 0.5191\n",
      "Epoch 84/100\n",
      "24/24 [==============================] - 0s 778us/step - loss: 0.6936 - accuracy: 0.4949\n",
      "Epoch 85/100\n",
      "24/24 [==============================] - 0s 750us/step - loss: 0.6938 - accuracy: 0.4889\n",
      "Epoch 86/100\n",
      "24/24 [==============================] - 0s 802us/step - loss: 0.6933 - accuracy: 0.5017\n",
      "Epoch 87/100\n",
      "24/24 [==============================] - 0s 793us/step - loss: 0.6926 - accuracy: 0.5205\n",
      "Epoch 88/100\n",
      "24/24 [==============================] - 0s 790us/step - loss: 0.6925 - accuracy: 0.5224\n",
      "Epoch 89/100\n",
      "24/24 [==============================] - 0s 728us/step - loss: 0.6940 - accuracy: 0.4811\n",
      "Epoch 90/100\n",
      "24/24 [==============================] - 0s 846us/step - loss: 0.6933 - accuracy: 0.5001\n",
      "Epoch 91/100\n",
      "24/24 [==============================] - 0s 752us/step - loss: 0.6941 - accuracy: 0.4783\n",
      "Epoch 92/100\n",
      "24/24 [==============================] - 0s 936us/step - loss: 0.6940 - accuracy: 0.4816\n",
      "Epoch 93/100\n",
      "24/24 [==============================] - 0s 723us/step - loss: 0.6926 - accuracy: 0.5209\n",
      "Epoch 94/100\n",
      "24/24 [==============================] - 0s 794us/step - loss: 0.6936 - accuracy: 0.4930\n",
      "Epoch 95/100\n",
      "24/24 [==============================] - 0s 806us/step - loss: 0.6934 - accuracy: 0.4982\n",
      "Epoch 96/100\n",
      "24/24 [==============================] - 0s 801us/step - loss: 0.6932 - accuracy: 0.5040\n",
      "Epoch 97/100\n",
      "24/24 [==============================] - 0s 790us/step - loss: 0.6922 - accuracy: 0.5347\n",
      "Epoch 98/100\n",
      "24/24 [==============================] - 0s 786us/step - loss: 0.6931 - accuracy: 0.5055\n",
      "Epoch 99/100\n",
      "24/24 [==============================] - 0s 824us/step - loss: 0.6932 - accuracy: 0.5025\n",
      "Epoch 100/100\n",
      "24/24 [==============================] - 0s 772us/step - loss: 0.6920 - accuracy: 0.5400\n"
     ]
    }
   ],
   "source": [
    "# Fit the model to the training data\n",
    "fit_model = nn_model.fit(X_train_scaled, y_train, epochs=100)"
   ]
  },
  {
   "cell_type": "code",
   "execution_count": 16,
   "metadata": {},
   "outputs": [
    {
     "data": {
      "text/plain": [
       "<AxesSubplot:>"
      ]
     },
     "execution_count": 16,
     "metadata": {},
     "output_type": "execute_result"
    },
    {
     "data": {
      "image/png": "[encoded data removed]",
      "text/plain": [
       "<Figure size 432x288 with 1 Axes>"
      ]
     },
     "metadata": {
      "needs_background": "light"
     },
     "output_type": "display_data"
    }
   ],
   "source": [
    "# Create a DataFrame containing training history\n",
    "history_df = pd.DataFrame(fit_model.history, index=range(1,len(fit_model.history[\"loss\"])+1))\n",
    "\n",
    "# Plot the loss\n",
    "history_df.plot(y=\"loss\")"
   ]
  },
  {
   "cell_type": "code",
   "execution_count": 17,
   "metadata": {},
   "outputs": [
    {
     "data": {
      "text/plain": [
       "<AxesSubplot:>"
      ]
     },
     "execution_count": 17,
     "metadata": {},
     "output_type": "execute_result"
    },
    {
     "data": {
      "image/png": "[encoded data removed]",
      "text/plain": [
       "<Figure size 432x288 with 1 Axes>"
      ]
     },
     "metadata": {
      "needs_background": "light"
     },
     "output_type": "display_data"
    }
   ],
   "source": [
    "# Plot the accuracy\n",
    "history_df.plot(y=\"accuracy\")"
   ]
  },
  {
   "cell_type": "code",
   "execution_count": 18,
   "metadata": {},
   "outputs": [
    {
     "name": "stdout",
     "output_type": "stream",
     "text": [
      "8/8 - 0s - loss: 0.6941 - accuracy: 0.4800\n",
      "Loss: 0.694073498249054, Accuracy: 0.47999998927116394\n"
     ]
    }
   ],
   "source": [
    "# Evaluate the model using the test data\n",
    "model_loss, model_accuracy = nn_model.evaluate(X_test_scaled,y_test,verbose=2)\n",
    "print(f\"Loss: {model_loss}, Accuracy: {model_accuracy}\")"
   ]
  },
  {
   "cell_type": "code",
   "execution_count": 19,
   "metadata": {},
   "outputs": [
    {
     "data": {
      "text/plain": [
       "array([[0],\n",
       "       [0],\n",
       "       [0],\n",
       "       [0],\n",
       "       [0],\n",
       "       [0],\n",
       "       [0],\n",
       "       [0],\n",
       "       [0],\n",
       "       [0]])"
      ]
     },
     "execution_count": 19,
     "metadata": {},
     "output_type": "execute_result"
    }
   ],
   "source": [
    "# Predict the classification of a new set of blob data\n",
    "new_X, new_Y = make_blobs(n_samples=10, centers=2, n_features=2, random_state=78)\n",
    "new_X_scaled = X_scaler.transform(new_X)\n",
    "(nn_model.predict(new_X_scaled) > 0.5).astype(\"int32\")"
   ]
  },
  {
   "cell_type": "code",
   "execution_count": 20,
   "metadata": {},
   "outputs": [
    {
     "data": {
      "text/plain": [
       "<AxesSubplot:xlabel='Feature 1', ylabel='Feature 2'>"
      ]
     },
     "execution_count": 20,
     "metadata": {},
     "output_type": "execute_result"
    },
    {
     "data": {
      "image/png": "[encoded data removed]",
      "text/plain": [
       "<Figure size 432x288 with 2 Axes>"
      ]
     },
     "metadata": {
      "needs_background": "light"
     },
     "output_type": "display_data"
    }
   ],
   "source": [
    "from sklearn.datasets import make_moons\n",
    "\n",
    "# Creating dummy nonlinear data\n",
    "X_moons, y_moons = make_moons(n_samples=1000, noise=0.08, random_state=78)\n",
    "\n",
    "# Transforming y_moons to a vertical vector\n",
    "y_moons = y_moons.reshape(-1, 1)\n",
    "\n",
    "# Creating a DataFrame to plot the nonlinear dummy data\n",
    "df_moons = pd.DataFrame(X_moons, columns=[\"Feature 1\", \"Feature 2\"])\n",
    "df_moons[\"Target\"] = y_moons\n",
    "\n",
    "# Plot the nonlinear dummy data\n",
    "df_moons.plot.scatter(x=\"Feature 1\",y=\"Feature 2\", c=\"Target\",colormap=\"winter\")"
   ]
  },
  {
   "cell_type": "code",
   "execution_count": 22,
   "metadata": {},
   "outputs": [],
   "source": [
    "# Create training and testing sets\n",
    "X_moon_train, X_moon_test, y_moon_train, y_moon_test = train_test_split(\n",
    "    X_moons, y_moons, random_state=78\n",
    ")\n",
    "\n",
    "# Create the scaler instance\n",
    "X_moon_scaler = skl.preprocessing.StandardScaler()\n",
    "\n",
    "# Fit the scaler\n",
    "X_moon_scaler.fit(X_moon_train)\n",
    "\n",
    "# Scale the data\n",
    "X_moon_train_scaled = X_moon_scaler.transform(X_moon_train)\n",
    "X_moon_test_scaled = X_moon_scaler.transform(X_moon_test)"
   ]
  },
  {
   "cell_type": "code",
   "execution_count": 23,
   "metadata": {},
   "outputs": [
    {
     "name": "stdout",
     "output_type": "stream",
     "text": [
      "Epoch 1/100\n",
      "24/24 [==============================] - 0s 1ms/step - loss: 0.6922 - accuracy: 0.5307\n",
      "Epoch 2/100\n",
      "24/24 [==============================] - 0s 1ms/step - loss: 0.6921 - accuracy: 0.5307\n",
      "Epoch 3/100\n",
      "24/24 [==============================] - 0s 1ms/step - loss: 0.6920 - accuracy: 0.5307\n",
      "Epoch 4/100\n",
      "24/24 [==============================] - 0s 1ms/step - loss: 0.6919 - accuracy: 0.5307\n",
      "Epoch 5/100\n",
      "24/24 [==============================] - 0s 1ms/step - loss: 0.6918 - accuracy: 0.5307\n",
      "Epoch 6/100\n",
      "24/24 [==============================] - 0s 1ms/step - loss: 0.6918 - accuracy: 0.5307\n",
      "Epoch 7/100\n",
      "24/24 [==============================] - 0s 1ms/step - loss: 0.6917 - accuracy: 0.5307\n",
      "Epoch 8/100\n",
      "24/24 [==============================] - 0s 1ms/step - loss: 0.6916 - accuracy: 0.5307\n",
      "Epoch 9/100\n",
      "24/24 [==============================] - 0s 1ms/step - loss: 0.6916 - accuracy: 0.5307\n",
      "Epoch 10/100\n",
      "24/24 [==============================] - 0s 1ms/step - loss: 0.6916 - accuracy: 0.5307\n",
      "Epoch 11/100\n",
      "24/24 [==============================] - 0s 1ms/step - loss: 0.6915 - accuracy: 0.5307\n",
      "Epoch 12/100\n",
      "24/24 [==============================] - 0s 1ms/step - loss: 0.6915 - accuracy: 0.5307\n",
      "Epoch 13/100\n",
      "24/24 [==============================] - 0s 1ms/step - loss: 0.6915 - accuracy: 0.5307\n",
      "Epoch 14/100\n",
      "24/24 [==============================] - 0s 2ms/step - loss: 0.6914 - accuracy: 0.5307\n",
      "Epoch 15/100\n",
      "24/24 [==============================] - 0s 1ms/step - loss: 0.6914 - accuracy: 0.5307\n",
      "Epoch 16/100\n",
      "24/24 [==============================] - 0s 1ms/step - loss: 0.6914 - accuracy: 0.5307\n",
      "Epoch 17/100\n",
      "24/24 [==============================] - 0s 1ms/step - loss: 0.6914 - accuracy: 0.5307\n",
      "Epoch 18/100\n",
      "24/24 [==============================] - 0s 1ms/step - loss: 0.6914 - accuracy: 0.5307\n",
      "Epoch 19/100\n",
      "24/24 [==============================] - 0s 1ms/step - loss: 0.6914 - accuracy: 0.5307\n",
      "Epoch 20/100\n",
      "24/24 [==============================] - 0s 2ms/step - loss: 0.6913 - accuracy: 0.5307\n",
      "Epoch 21/100\n",
      "24/24 [==============================] - 0s 2ms/step - loss: 0.6914 - accuracy: 0.5307\n",
      "Epoch 22/100\n",
      "24/24 [==============================] - 0s 1ms/step - loss: 0.6913 - accuracy: 0.5307\n",
      "Epoch 23/100\n",
      "24/24 [==============================] - 0s 1ms/step - loss: 0.6913 - accuracy: 0.5307\n",
      "Epoch 24/100\n",
      "24/24 [==============================] - 0s 2ms/step - loss: 0.6913 - accuracy: 0.5307\n",
      "Epoch 25/100\n",
      "24/24 [==============================] - 0s 2ms/step - loss: 0.6913 - accuracy: 0.5307\n",
      "Epoch 26/100\n",
      "24/24 [==============================] - 0s 1ms/step - loss: 0.6913 - accuracy: 0.5307\n",
      "Epoch 27/100\n",
      "24/24 [==============================] - 0s 2ms/step - loss: 0.6913 - accuracy: 0.5307\n",
      "Epoch 28/100\n",
      "24/24 [==============================] - 0s 1ms/step - loss: 0.6913 - accuracy: 0.5307\n",
      "Epoch 29/100\n",
      "24/24 [==============================] - 0s 1ms/step - loss: 0.6913 - accuracy: 0.5307\n",
      "Epoch 30/100\n",
      "24/24 [==============================] - 0s 1ms/step - loss: 0.6913 - accuracy: 0.5307\n",
      "Epoch 31/100\n",
      "24/24 [==============================] - 0s 1ms/step - loss: 0.6913 - accuracy: 0.5307\n",
      "Epoch 32/100\n",
      "24/24 [==============================] - 0s 1ms/step - loss: 0.6913 - accuracy: 0.5307\n",
      "Epoch 33/100\n",
      "24/24 [==============================] - 0s 1ms/step - loss: 0.6913 - accuracy: 0.5307\n",
      "Epoch 34/100\n",
      "24/24 [==============================] - 0s 1ms/step - loss: 0.6913 - accuracy: 0.5307\n",
      "Epoch 35/100\n",
      "24/24 [==============================] - 0s 1ms/step - loss: 0.6913 - accuracy: 0.5307\n",
      "Epoch 36/100\n",
      "24/24 [==============================] - 0s 1ms/step - loss: 0.6913 - accuracy: 0.5307\n",
      "Epoch 37/100\n",
      "24/24 [==============================] - 0s 1ms/step - loss: 0.6913 - accuracy: 0.5307\n",
      "Epoch 38/100\n",
      "24/24 [==============================] - 0s 1ms/step - loss: 0.6913 - accuracy: 0.5307\n",
      "Epoch 39/100\n",
      "24/24 [==============================] - 0s 1ms/step - loss: 0.6913 - accuracy: 0.5307\n",
      "Epoch 40/100\n",
      "24/24 [==============================] - 0s 1ms/step - loss: 0.6913 - accuracy: 0.5307\n",
      "Epoch 41/100\n",
      "24/24 [==============================] - 0s 1ms/step - loss: 0.6913 - accuracy: 0.5307\n",
      "Epoch 42/100\n",
      "24/24 [==============================] - 0s 1ms/step - loss: 0.6913 - accuracy: 0.5307\n",
      "Epoch 43/100\n",
      "24/24 [==============================] - 0s 2ms/step - loss: 0.6913 - accuracy: 0.5307\n",
      "Epoch 44/100\n",
      "24/24 [==============================] - 0s 2ms/step - loss: 0.6913 - accuracy: 0.5307\n",
      "Epoch 45/100\n",
      "24/24 [==============================] - 0s 2ms/step - loss: 0.6913 - accuracy: 0.5307\n",
      "Epoch 46/100\n",
      "24/24 [==============================] - 0s 1ms/step - loss: 0.6913 - accuracy: 0.5307\n",
      "Epoch 47/100\n",
      "24/24 [==============================] - 0s 2ms/step - loss: 0.6913 - accuracy: 0.5307\n",
      "Epoch 48/100\n",
      "24/24 [==============================] - 0s 1ms/step - loss: 0.6913 - accuracy: 0.5307\n",
      "Epoch 49/100\n",
      "24/24 [==============================] - 0s 1ms/step - loss: 0.6913 - accuracy: 0.5307\n",
      "Epoch 50/100\n",
      "24/24 [==============================] - 0s 1ms/step - loss: 0.6913 - accuracy: 0.5307\n",
      "Epoch 51/100\n",
      "24/24 [==============================] - 0s 1ms/step - loss: 0.6913 - accuracy: 0.5307\n",
      "Epoch 52/100\n",
      "24/24 [==============================] - 0s 1ms/step - loss: 0.6913 - accuracy: 0.5307\n",
      "Epoch 53/100\n",
      "24/24 [==============================] - 0s 1ms/step - loss: 0.6913 - accuracy: 0.5307\n",
      "Epoch 54/100\n",
      "24/24 [==============================] - 0s 1ms/step - loss: 0.6913 - accuracy: 0.5307\n",
      "Epoch 55/100\n",
      "24/24 [==============================] - 0s 1ms/step - loss: 0.6913 - accuracy: 0.5307\n",
      "Epoch 56/100\n",
      "24/24 [==============================] - 0s 1ms/step - loss: 0.6913 - accuracy: 0.5307\n",
      "Epoch 57/100\n",
      "24/24 [==============================] - 0s 1ms/step - loss: 0.6913 - accuracy: 0.5307\n",
      "Epoch 58/100\n",
      "24/24 [==============================] - 0s 1ms/step - loss: 0.6913 - accuracy: 0.5307\n",
      "Epoch 59/100\n",
      "24/24 [==============================] - 0s 1ms/step - loss: 0.6913 - accuracy: 0.5307\n",
      "Epoch 60/100\n",
      "24/24 [==============================] - 0s 1ms/step - loss: 0.6913 - accuracy: 0.5307\n",
      "Epoch 61/100\n",
      "24/24 [==============================] - 0s 1ms/step - loss: 0.6913 - accuracy: 0.5307\n",
      "Epoch 62/100\n",
      "24/24 [==============================] - 0s 1ms/step - loss: 0.6913 - accuracy: 0.5307\n",
      "Epoch 63/100\n",
      "24/24 [==============================] - 0s 1ms/step - loss: 0.6913 - accuracy: 0.5307\n",
      "Epoch 64/100\n",
      "24/24 [==============================] - 0s 1ms/step - loss: 0.6913 - accuracy: 0.5307\n",
      "Epoch 65/100\n",
      "24/24 [==============================] - 0s 1ms/step - loss: 0.6913 - accuracy: 0.5307\n",
      "Epoch 66/100\n",
      "24/24 [==============================] - 0s 1ms/step - loss: 0.6913 - accuracy: 0.5307\n",
      "Epoch 67/100\n",
      "24/24 [==============================] - 0s 1ms/step - loss: 0.6913 - accuracy: 0.5307\n",
      "Epoch 68/100\n",
      "24/24 [==============================] - 0s 1ms/step - loss: 0.6913 - accuracy: 0.5307\n",
      "Epoch 69/100\n",
      "24/24 [==============================] - 0s 1ms/step - loss: 0.6913 - accuracy: 0.5307\n",
      "Epoch 70/100\n",
      "24/24 [==============================] - 0s 1ms/step - loss: 0.6913 - accuracy: 0.5307\n",
      "Epoch 71/100\n",
      "24/24 [==============================] - 0s 2ms/step - loss: 0.6913 - accuracy: 0.5307\n",
      "Epoch 72/100\n",
      "24/24 [==============================] - 0s 1ms/step - loss: 0.6913 - accuracy: 0.5307\n",
      "Epoch 73/100\n",
      "24/24 [==============================] - 0s 1ms/step - loss: 0.6913 - accuracy: 0.5307\n",
      "Epoch 74/100\n",
      "24/24 [==============================] - 0s 1ms/step - loss: 0.6913 - accuracy: 0.5307\n",
      "Epoch 75/100\n",
      "24/24 [==============================] - 0s 1ms/step - loss: 0.6913 - accuracy: 0.5307\n",
      "Epoch 76/100\n",
      "24/24 [==============================] - 0s 1ms/step - loss: 0.6913 - accuracy: 0.5307\n",
      "Epoch 77/100\n",
      "24/24 [==============================] - 0s 1ms/step - loss: 0.6913 - accuracy: 0.5307\n",
      "Epoch 78/100\n",
      "24/24 [==============================] - 0s 1ms/step - loss: 0.6913 - accuracy: 0.5307\n",
      "Epoch 79/100\n",
      "24/24 [==============================] - 0s 1ms/step - loss: 0.6913 - accuracy: 0.5307\n",
      "Epoch 80/100\n",
      "24/24 [==============================] - 0s 1ms/step - loss: 0.6913 - accuracy: 0.5307\n",
      "Epoch 81/100\n",
      "24/24 [==============================] - 0s 1ms/step - loss: 0.6913 - accuracy: 0.5307\n",
      "Epoch 82/100\n",
      "24/24 [==============================] - 0s 1ms/step - loss: 0.6913 - accuracy: 0.5307\n",
      "Epoch 83/100\n"
     ]
    },
    {
     "name": "stdout",
     "output_type": "stream",
     "text": [
      "24/24 [==============================] - 0s 1ms/step - loss: 0.6913 - accuracy: 0.5307\n",
      "Epoch 84/100\n",
      "24/24 [==============================] - 0s 1ms/step - loss: 0.6913 - accuracy: 0.5307\n",
      "Epoch 85/100\n",
      "24/24 [==============================] - 0s 1ms/step - loss: 0.6913 - accuracy: 0.5307\n",
      "Epoch 86/100\n",
      "24/24 [==============================] - 0s 1ms/step - loss: 0.6913 - accuracy: 0.5307\n",
      "Epoch 87/100\n",
      "24/24 [==============================] - 0s 1ms/step - loss: 0.6913 - accuracy: 0.5307\n",
      "Epoch 88/100\n",
      "24/24 [==============================] - 0s 1ms/step - loss: 0.6913 - accuracy: 0.5307\n",
      "Epoch 89/100\n",
      "24/24 [==============================] - 0s 1ms/step - loss: 0.6913 - accuracy: 0.5307\n",
      "Epoch 90/100\n",
      "24/24 [==============================] - 0s 1ms/step - loss: 0.6913 - accuracy: 0.5307\n",
      "Epoch 91/100\n",
      "24/24 [==============================] - 0s 1ms/step - loss: 0.6913 - accuracy: 0.5307\n",
      "Epoch 92/100\n",
      "24/24 [==============================] - 0s 1ms/step - loss: 0.6913 - accuracy: 0.5307\n",
      "Epoch 93/100\n",
      "24/24 [==============================] - 0s 1ms/step - loss: 0.6913 - accuracy: 0.5307\n",
      "Epoch 94/100\n",
      "24/24 [==============================] - 0s 1ms/step - loss: 0.6913 - accuracy: 0.5307\n",
      "Epoch 95/100\n",
      "24/24 [==============================] - 0s 1ms/step - loss: 0.6913 - accuracy: 0.5307\n",
      "Epoch 96/100\n",
      "24/24 [==============================] - 0s 1ms/step - loss: 0.6913 - accuracy: 0.5307\n",
      "Epoch 97/100\n",
      "24/24 [==============================] - 0s 1ms/step - loss: 0.6913 - accuracy: 0.5307\n",
      "Epoch 98/100\n",
      "24/24 [==============================] - 0s 1ms/step - loss: 0.6913 - accuracy: 0.5307\n",
      "Epoch 99/100\n",
      "24/24 [==============================] - 0s 1ms/step - loss: 0.6913 - accuracy: 0.5307\n",
      "Epoch 100/100\n",
      "24/24 [==============================] - 0s 1ms/step - loss: 0.6913 - accuracy: 0.5307\n"
     ]
    }
   ],
   "source": [
    "# Training the model with the nonlinear data\n",
    "model_moon = nn_model.fit(X_moon_train_scaled, y_moon_train, epochs=100, shuffle=True)"
   ]
  },
  {
   "cell_type": "code",
   "execution_count": 24,
   "metadata": {},
   "outputs": [
    {
     "data": {
      "text/plain": [
       "<AxesSubplot:>"
      ]
     },
     "execution_count": 24,
     "metadata": {},
     "output_type": "execute_result"
    },
    {
     "data": {
      "image/png": "[encoded data removed]",
      "text/plain": [
       "<Figure size 432x288 with 1 Axes>"
      ]
     },
     "metadata": {
      "needs_background": "light"
     },
     "output_type": "display_data"
    }
   ],
   "source": [
    "# Create a DataFrame containing training history\n",
    "history_df = pd.DataFrame(model_moon.history, index=range(1,len(model_moon.history[\"loss\"])+1))\n",
    "\n",
    "# Plot the loss\n",
    "history_df.plot(y=\"loss\")"
   ]
  },
  {
   "cell_type": "code",
   "execution_count": 25,
   "metadata": {},
   "outputs": [
    {
     "data": {
      "text/plain": [
       "<AxesSubplot:>"
      ]
     },
     "execution_count": 25,
     "metadata": {},
     "output_type": "execute_result"
    },
    {
     "data": {
      "image/png": "[encoded data removed]",
      "text/plain": [
       "<Figure size 432x288 with 1 Axes>"
      ]
     },
     "metadata": {
      "needs_background": "light"
     },
     "output_type": "display_data"
    }
   ],
   "source": [
    "# Plot the loss\n",
    "history_df.plot(y=\"accuracy\")"
   ]
  },
  {
   "cell_type": "code",
   "execution_count": 26,
   "metadata": {},
   "outputs": [],
   "source": [
    "# Generate our new Sequential model\n",
    "new_model = tf.keras.models.Sequential()"
   ]
  },
  {
   "cell_type": "code",
   "execution_count": 28,
   "metadata": {},
   "outputs": [],
   "source": [
    "# Add the input and hidden layer\n",
    "number_inputs = 2\n",
    "number_hidden_nodes = 6\n",
    "\n",
    "new_model.add(tf.keras.layers.Dense(units=number_hidden_nodes, activation=\"relu\", input_dim=number_inputs))\n",
    "\n",
    "# Add the output layer that uses a probability activation function\n",
    "new_model.add(tf.keras.layers.Dense(units=1, activation=\"sigmoid\"))"
   ]
  },
  {
   "cell_type": "code",
   "execution_count": 29,
   "metadata": {},
   "outputs": [
    {
     "name": "stdout",
     "output_type": "stream",
     "text": [
      "Epoch 1/100\n",
      "24/24 [==============================] - 1s 1ms/step - loss: 0.7184 - accuracy: 0.4927\n",
      "Epoch 2/100\n",
      "24/24 [==============================] - 0s 1ms/step - loss: 0.7034 - accuracy: 0.4950\n",
      "Epoch 3/100\n",
      "24/24 [==============================] - 0s 1ms/step - loss: 0.6997 - accuracy: 0.4789\n",
      "Epoch 4/100\n",
      "24/24 [==============================] - 0s 1ms/step - loss: 0.6959 - accuracy: 0.4484\n",
      "Epoch 5/100\n",
      "24/24 [==============================] - 0s 1ms/step - loss: 0.6870 - accuracy: 0.4680\n",
      "Epoch 6/100\n",
      "24/24 [==============================] - 0s 1ms/step - loss: 0.6816 - accuracy: 0.5669\n",
      "Epoch 7/100\n",
      "24/24 [==============================] - 0s 1ms/step - loss: 0.6779 - accuracy: 0.5994\n",
      "Epoch 8/100\n",
      "24/24 [==============================] - 0s 1ms/step - loss: 0.6705 - accuracy: 0.6314\n",
      "Epoch 9/100\n",
      "24/24 [==============================] - 0s 1ms/step - loss: 0.6685 - accuracy: 0.5898\n",
      "Epoch 10/100\n",
      "24/24 [==============================] - 0s 1ms/step - loss: 0.6642 - accuracy: 0.6306\n",
      "Epoch 11/100\n",
      "24/24 [==============================] - 0s 962us/step - loss: 0.6570 - accuracy: 0.6720\n",
      "Epoch 12/100\n",
      "24/24 [==============================] - 0s 924us/step - loss: 0.6511 - accuracy: 0.7290\n",
      "Epoch 13/100\n",
      "24/24 [==============================] - 0s 1ms/step - loss: 0.6432 - accuracy: 0.7958\n",
      "Epoch 14/100\n",
      "24/24 [==============================] - 0s 1ms/step - loss: 0.6350 - accuracy: 0.8142\n",
      "Epoch 15/100\n",
      "24/24 [==============================] - 0s 909us/step - loss: 0.6255 - accuracy: 0.8203\n",
      "Epoch 16/100\n",
      "24/24 [==============================] - 0s 955us/step - loss: 0.6171 - accuracy: 0.8248\n",
      "Epoch 17/100\n",
      "24/24 [==============================] - 0s 1ms/step - loss: 0.6056 - accuracy: 0.8448\n",
      "Epoch 18/100\n",
      "24/24 [==============================] - 0s 1ms/step - loss: 0.6008 - accuracy: 0.8565\n",
      "Epoch 19/100\n",
      "24/24 [==============================] - 0s 1ms/step - loss: 0.5822 - accuracy: 0.8795\n",
      "Epoch 20/100\n",
      "24/24 [==============================] - 0s 1ms/step - loss: 0.5867 - accuracy: 0.8513\n",
      "Epoch 21/100\n",
      "24/24 [==============================] - 0s 1ms/step - loss: 0.5633 - accuracy: 0.8893\n",
      "Epoch 22/100\n",
      "24/24 [==============================] - 0s 1ms/step - loss: 0.5506 - accuracy: 0.8975\n",
      "Epoch 23/100\n",
      "24/24 [==============================] - 0s 1ms/step - loss: 0.5546 - accuracy: 0.8773\n",
      "Epoch 24/100\n",
      "24/24 [==============================] - 0s 953us/step - loss: 0.5317 - accuracy: 0.9027\n",
      "Epoch 25/100\n",
      "24/24 [==============================] - 0s 975us/step - loss: 0.5310 - accuracy: 0.8871\n",
      "Epoch 26/100\n",
      "24/24 [==============================] - 0s 944us/step - loss: 0.5221 - accuracy: 0.8965\n",
      "Epoch 27/100\n",
      "24/24 [==============================] - 0s 1ms/step - loss: 0.5028 - accuracy: 0.9154\n",
      "Epoch 28/100\n",
      "24/24 [==============================] - 0s 1ms/step - loss: 0.4837 - accuracy: 0.9081\n",
      "Epoch 29/100\n",
      "24/24 [==============================] - 0s 1ms/step - loss: 0.4926 - accuracy: 0.8926\n",
      "Epoch 30/100\n",
      "24/24 [==============================] - 0s 980us/step - loss: 0.4721 - accuracy: 0.9132\n",
      "Epoch 31/100\n",
      "24/24 [==============================] - 0s 1ms/step - loss: 0.4694 - accuracy: 0.9073\n",
      "Epoch 32/100\n",
      "24/24 [==============================] - 0s 989us/step - loss: 0.4606 - accuracy: 0.8991\n",
      "Epoch 33/100\n",
      "24/24 [==============================] - 0s 1ms/step - loss: 0.4425 - accuracy: 0.9217\n",
      "Epoch 34/100\n",
      "24/24 [==============================] - 0s 1ms/step - loss: 0.4491 - accuracy: 0.8977\n",
      "Epoch 35/100\n",
      "24/24 [==============================] - 0s 1ms/step - loss: 0.4228 - accuracy: 0.9138\n",
      "Epoch 36/100\n",
      "24/24 [==============================] - 0s 1ms/step - loss: 0.4111 - accuracy: 0.9283\n",
      "Epoch 37/100\n",
      "24/24 [==============================] - 0s 1ms/step - loss: 0.4165 - accuracy: 0.9108\n",
      "Epoch 38/100\n",
      "24/24 [==============================] - 0s 970us/step - loss: 0.3984 - accuracy: 0.9274\n",
      "Epoch 39/100\n",
      "24/24 [==============================] - 0s 999us/step - loss: 0.4063 - accuracy: 0.9088\n",
      "Epoch 40/100\n",
      "24/24 [==============================] - 0s 998us/step - loss: 0.3859 - accuracy: 0.9299\n",
      "Epoch 41/100\n",
      "24/24 [==============================] - 0s 968us/step - loss: 0.3723 - accuracy: 0.9275\n",
      "Epoch 42/100\n",
      "24/24 [==============================] - 0s 903us/step - loss: 0.3595 - accuracy: 0.9347\n",
      "Epoch 43/100\n",
      "24/24 [==============================] - 0s 1ms/step - loss: 0.3708 - accuracy: 0.9197\n",
      "Epoch 44/100\n",
      "24/24 [==============================] - 0s 900us/step - loss: 0.3589 - accuracy: 0.9206\n",
      "Epoch 45/100\n",
      "24/24 [==============================] - 0s 955us/step - loss: 0.3467 - accuracy: 0.9207\n",
      "Epoch 46/100\n",
      "24/24 [==============================] - 0s 975us/step - loss: 0.3314 - accuracy: 0.9266\n",
      "Epoch 47/100\n",
      "24/24 [==============================] - 0s 1ms/step - loss: 0.3233 - accuracy: 0.9433\n",
      "Epoch 48/100\n",
      "24/24 [==============================] - 0s 1ms/step - loss: 0.3123 - accuracy: 0.9448\n",
      "Epoch 49/100\n",
      "24/24 [==============================] - 0s 939us/step - loss: 0.3100 - accuracy: 0.9453\n",
      "Epoch 50/100\n",
      "24/24 [==============================] - 0s 957us/step - loss: 0.3070 - accuracy: 0.9306\n",
      "Epoch 51/100\n",
      "24/24 [==============================] - 0s 997us/step - loss: 0.2928 - accuracy: 0.9435\n",
      "Epoch 52/100\n",
      "24/24 [==============================] - 0s 929us/step - loss: 0.2801 - accuracy: 0.9546\n",
      "Epoch 53/100\n",
      "24/24 [==============================] - 0s 1ms/step - loss: 0.2786 - accuracy: 0.9428\n",
      "Epoch 54/100\n",
      "24/24 [==============================] - 0s 1ms/step - loss: 0.2625 - accuracy: 0.9474\n",
      "Epoch 55/100\n",
      "24/24 [==============================] - 0s 1ms/step - loss: 0.2618 - accuracy: 0.9407\n",
      "Epoch 56/100\n",
      "24/24 [==============================] - 0s 1ms/step - loss: 0.2586 - accuracy: 0.9492\n",
      "Epoch 57/100\n",
      "24/24 [==============================] - 0s 986us/step - loss: 0.2399 - accuracy: 0.9585\n",
      "Epoch 58/100\n",
      "24/24 [==============================] - 0s 1ms/step - loss: 0.2473 - accuracy: 0.9492\n",
      "Epoch 59/100\n",
      "24/24 [==============================] - 0s 1ms/step - loss: 0.2389 - accuracy: 0.9513\n",
      "Epoch 60/100\n",
      "24/24 [==============================] - 0s 891us/step - loss: 0.2217 - accuracy: 0.9611\n",
      "Epoch 61/100\n",
      "24/24 [==============================] - 0s 944us/step - loss: 0.2147 - accuracy: 0.9545\n",
      "Epoch 62/100\n",
      "24/24 [==============================] - 0s 901us/step - loss: 0.2100 - accuracy: 0.9586\n",
      "Epoch 63/100\n",
      "24/24 [==============================] - 0s 1ms/step - loss: 0.2092 - accuracy: 0.9496\n",
      "Epoch 64/100\n",
      "24/24 [==============================] - 0s 1ms/step - loss: 0.1897 - accuracy: 0.9638\n",
      "Epoch 65/100\n",
      "24/24 [==============================] - 0s 1ms/step - loss: 0.1831 - accuracy: 0.9620\n",
      "Epoch 66/100\n",
      "24/24 [==============================] - 0s 967us/step - loss: 0.1621 - accuracy: 0.9780\n",
      "Epoch 67/100\n",
      "24/24 [==============================] - 0s 826us/step - loss: 0.1628 - accuracy: 0.9779\n",
      "Epoch 68/100\n",
      "24/24 [==============================] - 0s 896us/step - loss: 0.1673 - accuracy: 0.9696\n",
      "Epoch 69/100\n",
      "24/24 [==============================] - 0s 892us/step - loss: 0.1678 - accuracy: 0.9664\n",
      "Epoch 70/100\n",
      "24/24 [==============================] - 0s 934us/step - loss: 0.1594 - accuracy: 0.9684\n",
      "Epoch 71/100\n",
      "24/24 [==============================] - 0s 919us/step - loss: 0.1455 - accuracy: 0.9769\n",
      "Epoch 72/100\n",
      "24/24 [==============================] - 0s 928us/step - loss: 0.1347 - accuracy: 0.9810\n",
      "Epoch 73/100\n",
      "24/24 [==============================] - 0s 932us/step - loss: 0.1346 - accuracy: 0.9849\n",
      "Epoch 74/100\n",
      "24/24 [==============================] - 0s 1ms/step - loss: 0.1354 - accuracy: 0.9825\n",
      "Epoch 75/100\n",
      "24/24 [==============================] - 0s 1ms/step - loss: 0.1217 - accuracy: 0.9848\n",
      "Epoch 76/100\n",
      "24/24 [==============================] - 0s 1ms/step - loss: 0.1227 - accuracy: 0.9852\n",
      "Epoch 77/100\n",
      "24/24 [==============================] - 0s 975us/step - loss: 0.1247 - accuracy: 0.9735\n",
      "Epoch 78/100\n",
      "24/24 [==============================] - 0s 988us/step - loss: 0.1198 - accuracy: 0.9848\n",
      "Epoch 79/100\n",
      "24/24 [==============================] - 0s 869us/step - loss: 0.1060 - accuracy: 0.9888\n",
      "Epoch 80/100\n",
      "24/24 [==============================] - 0s 982us/step - loss: 0.0967 - accuracy: 0.9905\n",
      "Epoch 81/100\n",
      "24/24 [==============================] - 0s 912us/step - loss: 0.0965 - accuracy: 0.9880\n",
      "Epoch 82/100\n"
     ]
    },
    {
     "name": "stdout",
     "output_type": "stream",
     "text": [
      "24/24 [==============================] - 0s 1ms/step - loss: 0.0944 - accuracy: 0.9900\n",
      "Epoch 83/100\n",
      "24/24 [==============================] - 0s 1ms/step - loss: 0.0881 - accuracy: 0.9953\n",
      "Epoch 84/100\n",
      "24/24 [==============================] - 0s 977us/step - loss: 0.0882 - accuracy: 0.9918\n",
      "Epoch 85/100\n",
      "24/24 [==============================] - 0s 1ms/step - loss: 0.0797 - accuracy: 0.9936\n",
      "Epoch 86/100\n",
      "24/24 [==============================] - 0s 1ms/step - loss: 0.0767 - accuracy: 0.9931\n",
      "Epoch 87/100\n",
      "24/24 [==============================] - 0s 1ms/step - loss: 0.0829 - accuracy: 0.9900\n",
      "Epoch 88/100\n",
      "24/24 [==============================] - 0s 983us/step - loss: 0.0708 - accuracy: 0.9962\n",
      "Epoch 89/100\n",
      "24/24 [==============================] - 0s 991us/step - loss: 0.0711 - accuracy: 0.9931\n",
      "Epoch 90/100\n",
      "24/24 [==============================] - 0s 885us/step - loss: 0.0732 - accuracy: 0.9942\n",
      "Epoch 91/100\n",
      "24/24 [==============================] - 0s 900us/step - loss: 0.0671 - accuracy: 0.9964\n",
      "Epoch 92/100\n",
      "24/24 [==============================] - 0s 992us/step - loss: 0.0694 - accuracy: 0.9957\n",
      "Epoch 93/100\n",
      "24/24 [==============================] - 0s 1ms/step - loss: 0.0652 - accuracy: 0.9951\n",
      "Epoch 94/100\n",
      "24/24 [==============================] - 0s 894us/step - loss: 0.0627 - accuracy: 0.9910\n",
      "Epoch 95/100\n",
      "24/24 [==============================] - 0s 2ms/step - loss: 0.0606 - accuracy: 0.9958\n",
      "Epoch 96/100\n",
      "24/24 [==============================] - 0s 1ms/step - loss: 0.0527 - accuracy: 0.9962\n",
      "Epoch 97/100\n",
      "24/24 [==============================] - 0s 1ms/step - loss: 0.0553 - accuracy: 0.9966\n",
      "Epoch 98/100\n",
      "24/24 [==============================] - 0s 2ms/step - loss: 0.0556 - accuracy: 0.9965\n",
      "Epoch 99/100\n",
      "24/24 [==============================] - 0s 1ms/step - loss: 0.0496 - accuracy: 0.9974\n",
      "Epoch 100/100\n",
      "24/24 [==============================] - 0s 1ms/step - loss: 0.0469 - accuracy: 0.9958\n"
     ]
    }
   ],
   "source": [
    "# Compile the Sequential model together and customize metrics\n",
    "new_model.compile(loss=\"binary_crossentropy\", optimizer=\"adam\", metrics=[\"accuracy\"])\n",
    "\n",
    "# Fit the model to the training data\n",
    "new_fit_model = new_model.fit(X_moon_train_scaled, y_moon_train, epochs=100, shuffle=True)"
   ]
  },
  {
   "cell_type": "code",
   "execution_count": null,
   "metadata": {},
   "outputs": [],
   "source": []
  }
 ],
 "metadata": {
  "kernelspec": {
   "display_name": "Python 3",
   "language": "python",
   "name": "python3"
  },
  "language_info": {
   "codemirror_mode": {
    "name": "ipython",
    "version": 3
   },
   "file_extension": ".py",
   "mimetype": "text/x-python",
   "name": "python",
   "nbconvert_exporter": "python",
   "pygments_lexer": "ipython3",
   "version": "3.8.5"
  }
 },
 "nbformat": 4,
 "nbformat_minor": 4
}
